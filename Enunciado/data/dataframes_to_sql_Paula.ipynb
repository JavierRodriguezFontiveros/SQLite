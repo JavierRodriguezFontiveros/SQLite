{
 "cells": [
  {
   "cell_type": "code",
   "execution_count": 2,
   "metadata": {},
   "outputs": [],
   "source": [
    "import pandas as pd"
   ]
  },
  {
   "cell_type": "markdown",
   "metadata": {},
   "source": [
    "# CSV to DATA SETS"
   ]
  },
  {
   "cell_type": "code",
   "execution_count": 3,
   "metadata": {},
   "outputs": [
    {
     "data": {
      "text/plain": [
       "['Nombre',\n",
       " 'Email',\n",
       " 'Promoción',\n",
       " 'Fecha_comienzo',\n",
       " 'Campus',\n",
       " 'Proyecto_HLF',\n",
       " 'Proyecto_EDA',\n",
       " 'Proyecto_BBDD',\n",
       " 'Proyecto_ML',\n",
       " 'Proyecto_Deployment']"
      ]
     },
     "execution_count": 3,
     "metadata": {},
     "output_type": "execute_result"
    }
   ],
   "source": [
    "clase_1 = pd.read_csv(\"../data/clase_1.csv\", sep =\";\")\n",
    "\n",
    "list(clase_1.columns)"
   ]
  },
  {
   "cell_type": "code",
   "execution_count": 4,
   "metadata": {},
   "outputs": [
    {
     "data": {
      "text/plain": [
       "['Nombre',\n",
       " 'Email',\n",
       " 'Promoción',\n",
       " 'Fecha_comienzo',\n",
       " 'Campus',\n",
       " 'Proyecto_HLF',\n",
       " 'Proyecto_EDA',\n",
       " 'Proyecto_BBDD',\n",
       " 'Proyecto_ML',\n",
       " 'Proyecto_Deployment']"
      ]
     },
     "execution_count": 4,
     "metadata": {},
     "output_type": "execute_result"
    }
   ],
   "source": [
    "clase_2 = pd.read_csv(\"../data/clase_2.csv\", sep =\";\")\n",
    "list(clase_2.columns)"
   ]
  },
  {
   "cell_type": "code",
   "execution_count": 5,
   "metadata": {},
   "outputs": [
    {
     "data": {
      "text/plain": [
       "['Nombre',\n",
       " 'Email',\n",
       " 'Promoción',\n",
       " 'Fecha_comienzo',\n",
       " 'Campus',\n",
       " 'Proyecto_WebDev',\n",
       " 'Proyecto_FrontEnd',\n",
       " 'Proyecto_Backend',\n",
       " 'Proyecto_React',\n",
       " 'Proyecto_FullSatck']"
      ]
     },
     "execution_count": 5,
     "metadata": {},
     "output_type": "execute_result"
    }
   ],
   "source": [
    "clase_3 = pd.read_csv(\"../data/clase_3.csv\", sep =\";\")\n",
    "list(clase_3.columns)"
   ]
  },
  {
   "cell_type": "code",
   "execution_count": 6,
   "metadata": {},
   "outputs": [
    {
     "data": {
      "text/plain": [
       "['Nombre',\n",
       " 'Email',\n",
       " 'Promoción',\n",
       " 'Fecha_comienzo',\n",
       " 'Campus',\n",
       " 'Proyecto_WebDev',\n",
       " 'Proyecto_FrontEnd',\n",
       " 'Proyecto_Backend',\n",
       " 'Proyecto_React',\n",
       " 'Proyecto_FullSatck']"
      ]
     },
     "execution_count": 6,
     "metadata": {},
     "output_type": "execute_result"
    }
   ],
   "source": [
    "clase_4 = pd.read_csv(\"../data/clase_4.csv\", sep =\";\")\n",
    "list(clase_4.columns)"
   ]
  },
  {
   "cell_type": "code",
   "execution_count": 7,
   "metadata": {},
   "outputs": [
    {
     "data": {
      "text/plain": [
       "['Nombre', 'Rol', 'Vertical', 'Promocion', 'Campus', 'Modalidad']"
      ]
     },
     "execution_count": 7,
     "metadata": {},
     "output_type": "execute_result"
    }
   ],
   "source": [
    "claustro = pd.read_csv(\"../data/claustro.csv\", sep =\";\")\n",
    "list(claustro.columns)"
   ]
  },
  {
   "cell_type": "markdown",
   "metadata": {},
   "source": [
    "#\n",
    "___\n",
    "___"
   ]
  },
  {
   "cell_type": "markdown",
   "metadata": {},
   "source": [
    "# DATA SETS to SQL"
   ]
  }
 ],
 "metadata": {
  "kernelspec": {
   "display_name": "Python 3",
   "language": "python",
   "name": "python3"
  },
  "language_info": {
   "codemirror_mode": {
    "name": "ipython",
    "version": 3
   },
   "file_extension": ".py",
   "mimetype": "text/x-python",
   "name": "python",
   "nbconvert_exporter": "python",
   "pygments_lexer": "ipython3",
   "version": "3.12.6"
  }
 },
 "nbformat": 4,
 "nbformat_minor": 2
}
