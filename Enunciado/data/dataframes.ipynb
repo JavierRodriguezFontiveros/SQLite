{
 "cells": [
  {
   "cell_type": "code",
   "execution_count": 3,
   "metadata": {},
   "outputs": [],
   "source": [
    "import pandas as pd"
   ]
  },
  {
   "cell_type": "code",
   "execution_count": 8,
   "metadata": {},
   "outputs": [
    {
     "data": {
      "text/plain": [
       "['Nombre',\n",
       " 'Email',\n",
       " 'Promoción',\n",
       " 'Fecha_comienzo',\n",
       " 'Campus',\n",
       " 'Proyecto_HLF',\n",
       " 'Proyecto_EDA',\n",
       " 'Proyecto_BBDD',\n",
       " 'Proyecto_ML',\n",
       " 'Proyecto_Deployment']"
      ]
     },
     "execution_count": 8,
     "metadata": {},
     "output_type": "execute_result"
    }
   ],
   "source": [
    "clase_1 = pd.read_csv(\"../data/clase_1.csv\", sep =\";\")\n",
    "list(clase_1.columns)"
   ]
  },
  {
   "cell_type": "code",
   "execution_count": null,
   "metadata": {},
   "outputs": [],
   "source": [
    "clase_1"
   ]
  },
  {
   "cell_type": "code",
   "execution_count": 9,
   "metadata": {},
   "outputs": [
    {
     "data": {
      "text/plain": [
       "['Nombre',\n",
       " 'Email',\n",
       " 'Promoción',\n",
       " 'Fecha_comienzo',\n",
       " 'Campus',\n",
       " 'Proyecto_HLF',\n",
       " 'Proyecto_EDA',\n",
       " 'Proyecto_BBDD',\n",
       " 'Proyecto_ML',\n",
       " 'Proyecto_Deployment']"
      ]
     },
     "execution_count": 9,
     "metadata": {},
     "output_type": "execute_result"
    }
   ],
   "source": [
    "clase_2 = pd.read_csv(\"../data/clase_2.csv\", sep =\";\")\n",
    "list(clase_2.columns)"
   ]
  },
  {
   "cell_type": "code",
   "execution_count": 10,
   "metadata": {},
   "outputs": [
    {
     "data": {
      "text/plain": [
       "['Nombre',\n",
       " 'Email',\n",
       " 'Promoción',\n",
       " 'Fecha_comienzo',\n",
       " 'Campus',\n",
       " 'Proyecto_WebDev',\n",
       " 'Proyecto_FrontEnd',\n",
       " 'Proyecto_Backend',\n",
       " 'Proyecto_React',\n",
       " 'Proyecto_FullSatck']"
      ]
     },
     "execution_count": 10,
     "metadata": {},
     "output_type": "execute_result"
    }
   ],
   "source": [
    "clase_3 = pd.read_csv(\"../data/clase_3.csv\", sep =\";\")\n",
    "list(clase_3.columns)"
   ]
  },
  {
   "cell_type": "code",
   "execution_count": 11,
   "metadata": {},
   "outputs": [
    {
     "data": {
      "text/plain": [
       "['Nombre',\n",
       " 'Email',\n",
       " 'Promoción',\n",
       " 'Fecha_comienzo',\n",
       " 'Campus',\n",
       " 'Proyecto_WebDev',\n",
       " 'Proyecto_FrontEnd',\n",
       " 'Proyecto_Backend',\n",
       " 'Proyecto_React',\n",
       " 'Proyecto_FullSatck']"
      ]
     },
     "execution_count": 11,
     "metadata": {},
     "output_type": "execute_result"
    }
   ],
   "source": [
    "clase_4 = pd.read_csv(\"../data/clase_4.csv\", sep =\";\")\n",
    "list(clase_4.columns)"
   ]
  },
  {
   "cell_type": "code",
   "execution_count": 13,
   "metadata": {},
   "outputs": [
    {
     "data": {
      "text/plain": [
       "['Nombre', 'Rol', 'Vertical', 'Promocion', 'Campus', 'Modalidad']"
      ]
     },
     "execution_count": 13,
     "metadata": {},
     "output_type": "execute_result"
    }
   ],
   "source": [
    "claustro = pd.read_csv(\"../data/claustro.csv\", sep =\";\")\n",
    "list(claustro.columns)"
   ]
  },
  {
   "cell_type": "code",
   "execution_count": 15,
   "metadata": {},
   "outputs": [
    {
     "data": {
      "text/html": [
       "<div>\n",
       "<style scoped>\n",
       "    .dataframe tbody tr th:only-of-type {\n",
       "        vertical-align: middle;\n",
       "    }\n",
       "\n",
       "    .dataframe tbody tr th {\n",
       "        vertical-align: top;\n",
       "    }\n",
       "\n",
       "    .dataframe thead th {\n",
       "        text-align: right;\n",
       "    }\n",
       "</style>\n",
       "<table border=\"1\" class=\"dataframe\">\n",
       "  <thead>\n",
       "    <tr style=\"text-align: right;\">\n",
       "      <th></th>\n",
       "      <th>Nombre</th>\n",
       "      <th>Rol</th>\n",
       "      <th>Vertical</th>\n",
       "      <th>Promocion</th>\n",
       "      <th>Campus</th>\n",
       "      <th>Modalidad</th>\n",
       "    </tr>\n",
       "  </thead>\n",
       "  <tbody>\n",
       "    <tr>\n",
       "      <th>0</th>\n",
       "      <td>Noa Yáñez</td>\n",
       "      <td>TA</td>\n",
       "      <td>DS</td>\n",
       "      <td>Septiembre</td>\n",
       "      <td>Madrid</td>\n",
       "      <td>Presencial</td>\n",
       "    </tr>\n",
       "    <tr>\n",
       "      <th>1</th>\n",
       "      <td>Saturnina Benitez</td>\n",
       "      <td>TA</td>\n",
       "      <td>DS</td>\n",
       "      <td>Septiembre</td>\n",
       "      <td>Madrid</td>\n",
       "      <td>Presencial</td>\n",
       "    </tr>\n",
       "    <tr>\n",
       "      <th>2</th>\n",
       "      <td>Anna Feliu</td>\n",
       "      <td>TA</td>\n",
       "      <td>FS</td>\n",
       "      <td>Septiembre</td>\n",
       "      <td>Madrid</td>\n",
       "      <td>Presencial</td>\n",
       "    </tr>\n",
       "    <tr>\n",
       "      <th>3</th>\n",
       "      <td>Rosalva Ayuso</td>\n",
       "      <td>TA</td>\n",
       "      <td>FS</td>\n",
       "      <td>Septiembre</td>\n",
       "      <td>Valencia</td>\n",
       "      <td>Presencial</td>\n",
       "    </tr>\n",
       "    <tr>\n",
       "      <th>4</th>\n",
       "      <td>Ana Sofía Ferrer</td>\n",
       "      <td>TA</td>\n",
       "      <td>FS</td>\n",
       "      <td>Febrero</td>\n",
       "      <td>Valencia</td>\n",
       "      <td>Presencial</td>\n",
       "    </tr>\n",
       "    <tr>\n",
       "      <th>5</th>\n",
       "      <td>Angélica Corral</td>\n",
       "      <td>TA</td>\n",
       "      <td>FS</td>\n",
       "      <td>Febrero</td>\n",
       "      <td>Madrid</td>\n",
       "      <td>Presencial</td>\n",
       "    </tr>\n",
       "    <tr>\n",
       "      <th>6</th>\n",
       "      <td>Ariel Lledó</td>\n",
       "      <td>TA</td>\n",
       "      <td>DS</td>\n",
       "      <td>Septiembre</td>\n",
       "      <td>Madrid</td>\n",
       "      <td>Presencial</td>\n",
       "    </tr>\n",
       "    <tr>\n",
       "      <th>7</th>\n",
       "      <td>Mario Prats</td>\n",
       "      <td>LI</td>\n",
       "      <td>FS</td>\n",
       "      <td>Febrero</td>\n",
       "      <td>Valencia</td>\n",
       "      <td>Online</td>\n",
       "    </tr>\n",
       "    <tr>\n",
       "      <th>8</th>\n",
       "      <td>Luis Ángel Suárez</td>\n",
       "      <td>LI</td>\n",
       "      <td>FS</td>\n",
       "      <td>Septiembre</td>\n",
       "      <td>Madrid</td>\n",
       "      <td>Online</td>\n",
       "    </tr>\n",
       "    <tr>\n",
       "      <th>9</th>\n",
       "      <td>María Dolores Diaz</td>\n",
       "      <td>LI</td>\n",
       "      <td>DS</td>\n",
       "      <td>Septiembre</td>\n",
       "      <td>Madrid</td>\n",
       "      <td>Online</td>\n",
       "    </tr>\n",
       "  </tbody>\n",
       "</table>\n",
       "</div>"
      ],
      "text/plain": [
       "               Nombre Rol Vertical   Promocion    Campus   Modalidad\n",
       "0           Noa Yáñez  TA       DS  Septiembre    Madrid  Presencial\n",
       "1   Saturnina Benitez  TA       DS  Septiembre    Madrid  Presencial\n",
       "2          Anna Feliu  TA       FS  Septiembre    Madrid  Presencial\n",
       "3       Rosalva Ayuso  TA       FS  Septiembre  Valencia  Presencial\n",
       "4    Ana Sofía Ferrer  TA       FS     Febrero  Valencia  Presencial\n",
       "5     Angélica Corral  TA       FS     Febrero    Madrid  Presencial\n",
       "6         Ariel Lledó  TA       DS  Septiembre    Madrid  Presencial\n",
       "7         Mario Prats  LI       FS     Febrero  Valencia      Online\n",
       "8   Luis Ángel Suárez  LI       FS  Septiembre    Madrid      Online\n",
       "9  María Dolores Diaz  LI       DS  Septiembre    Madrid      Online"
      ]
     },
     "execution_count": 15,
     "metadata": {},
     "output_type": "execute_result"
    }
   ],
   "source": [
    "claustro"
   ]
  }
 ],
 "metadata": {
  "kernelspec": {
   "display_name": "Python 3",
   "language": "python",
   "name": "python3"
  },
  "language_info": {
   "codemirror_mode": {
    "name": "ipython",
    "version": 3
   },
   "file_extension": ".py",
   "mimetype": "text/x-python",
   "name": "python",
   "nbconvert_exporter": "python",
   "pygments_lexer": "ipython3",
   "version": "3.12.5"
  }
 },
 "nbformat": 4,
 "nbformat_minor": 2
}
